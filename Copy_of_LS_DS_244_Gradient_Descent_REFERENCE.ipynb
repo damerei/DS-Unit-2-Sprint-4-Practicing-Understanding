{
  "nbformat": 4,
  "nbformat_minor": 0,
  "metadata": {
    "colab": {
      "name": "Copy of LS_DS_244_Gradient_Descent_REFERENCE.ipynb",
      "version": "0.3.2",
      "provenance": [],
      "include_colab_link": true
    },
    "language_info": {
      "codemirror_mode": {
        "name": "ipython",
        "version": 3
      },
      "file_extension": ".py",
      "mimetype": "text/x-python",
      "name": "python",
      "nbconvert_exporter": "python",
      "pygments_lexer": "ipython3",
      "version": "3.7.1"
    },
    "kernelspec": {
      "display_name": "Python 3",
      "language": "python",
      "name": "python3"
    }
  },
  "cells": [
    {
      "cell_type": "markdown",
      "metadata": {
        "id": "view-in-github",
        "colab_type": "text"
      },
      "source": [
        "<a href=\"https://colab.research.google.com/github/damerei/DS-Unit-2-Sprint-4-Practicing-Understanding/blob/master/Copy_of_LS_DS_244_Gradient_Descent_REFERENCE.ipynb\" target=\"_parent\"><img src=\"https://colab.research.google.com/assets/colab-badge.svg\" alt=\"Open In Colab\"/></a>"
      ]
    },
    {
      "cell_type": "markdown",
      "metadata": {
        "id": "xpkaSq_4lYLR",
        "colab_type": "text"
      },
      "source": [
        "_Lambda School Data Science — Practicing & Understanding Predictive Modeling_\n",
        "\n",
        "# Gradient Descent"
      ]
    },
    {
      "cell_type": "markdown",
      "metadata": {
        "id": "r-KRka7alYLT",
        "colab_type": "text"
      },
      "source": [
        "<a href=\"https://twitter.com/dorrismccomics/status/1022803306173923328\"><img src=\"https://pbs.twimg.com/media/DjG6LapXcAAQ46q?format=jpg\" alt=\"oh no\"></a>"
      ]
    },
    {
      "cell_type": "markdown",
      "metadata": {
        "id": "UmLO1YsNlYLT",
        "colab_type": "text"
      },
      "source": [
        "## 3Blue1Brown, [Gradient descent, how neural networks learn](https://www.youtube.com/watch?v=IHZwWFHWa-w&t=2s&list=PLZHQObOWTQDNU6R1_67000Dx_ZCJB-3pi)"
      ]
    },
    {
      "cell_type": "markdown",
      "metadata": {
        "id": "p3w7C5oylYLU",
        "colab_type": "text"
      },
      "source": [
        "It's provocative to describe a machine as learning. Once you actually see how it works, it feels a lot less like some crazy sci-fi premise and a lot more like, well, a calculus exercise. Basically it comes down to finding the minimum of a certain function. \n",
        "\n",
        "You define a cost function: a way of telling the computer: \"No, bad computer!\" But just telling the computer what a crappy job it's doing isn't very helpful. You want to tell it how to _change_ those weights and biases, so that it gets better.\n",
        "\n",
        "Just imagine a simple function that has one number as an input and one number as an output. How do you find an input that minimizes the value of this function?"
      ]
    },
    {
      "cell_type": "markdown",
      "metadata": {
        "id": "fWrV2m1BlYLV",
        "colab_type": "text"
      },
      "source": [
        "![](https://i.imgur.com/sEWIS5I.png)"
      ]
    },
    {
      "cell_type": "markdown",
      "metadata": {
        "id": "5yRdjGyOlYLW",
        "colab_type": "text"
      },
      "source": [
        "Calculus students will know that you can sometimes figure out that minimum explicitly. But that's not always feasible for really complicated functions.\n",
        "\n",
        "A more flexible tactic is to start at any old input and figure out which direction you should step to make that output lower.\n",
        "\n",
        "Specifically, if you can figure out the slope of the function where you are, then shift to the left if that slope is positive, and shift the input to the right if that slope is negative.\n",
        "\n",
        "If you do this repeatedly at each point, checking the new slope and taking the appropriate step, you're gonna approach some local minimum of the function.\n",
        "\n",
        "---\n",
        "\n",
        "Bumping up the complexity a bit, imagine instead a function with _two_ inputs and one output.\n",
        "\n",
        "Now instead of asking about the slope of the function, you have to ask which direction should you step, to decrease the output of the function most quickly? In other words, what's the downhill direction? It's helpful to think of a ball rolling down that hill."
      ]
    },
    {
      "cell_type": "markdown",
      "metadata": {
        "id": "DoQnpaqklYLW",
        "colab_type": "text"
      },
      "source": [
        "![](https://media.giphy.com/media/cLGkK33brqidKXS8dS/giphy.gif)"
      ]
    },
    {
      "cell_type": "markdown",
      "metadata": {
        "id": "M2_lbxEalYLX",
        "colab_type": "text"
      },
      "source": [
        "Those of you familiar with multivariable calculus will know that the gradient of a function gives you the direction of steepest ascent. Taking the negative of that gradient gives you the direction to step that decreases the function most quickly\n",
        "\n",
        "If you're unfamiliar with multivariable calculus, honestly, all that matters for you and me right now is that there exists a way to compute this downhill direction. You'll be okay if that's all you know and you're not rock solid on the details.\n",
        "\n",
        "Because if you can get that, the algorithm for minimizing the function is to \n",
        "\n",
        "- compute this gradient direction, \n",
        "- then take a small step downhill, \n",
        "- and just repeat that over and over. \n",
        "\n",
        "It's the same basic idea for a function that has 13,000 inputs instead of two inputs. This process of repeatedly nudging an input of a function by some multiple of the negative gradient is called gradient descent.\n",
        "\n",
        "---"
      ]
    },
    {
      "cell_type": "markdown",
      "metadata": {
        "id": "wEX8a4JIlYLY",
        "colab_type": "text"
      },
      "source": [
        "## Let's code it!\n",
        "\n",
        "> You define a cost function: a way of telling the computer: \"No, bad computer!\" But just telling the computer what a crappy job it's doing isn't very helpful. You want to tell it how to _change_ those weights and biases, so that it gets better.\n",
        ">\n",
        "> Just imagine a simple function that has one number as an input and one number as an output. \n",
        "\n",
        "Let's plot a function like that: $f(x) = x^2$"
      ]
    },
    {
      "cell_type": "code",
      "metadata": {
        "id": "KXd1ULBvlYLZ",
        "colab_type": "code",
        "outputId": "9dc1e2a9-6bed-476b-99de-8d867c0a1fed",
        "colab": {}
      },
      "source": [
        "%matplotlib inline\n",
        "import matplotlib.pyplot as plt\n",
        "import numpy as np\n",
        "import seaborn as sns\n",
        "sns.set_context('poster')\n",
        "\n",
        "# Plot f(x) = x ** 2\n",
        "xs = np.linspace(start=-1, stop=1)\n",
        "squares = xs ** 2\n",
        "plt.plot(xs, squares)\n",
        "plt.xlabel('x')\n",
        "plt.ylabel('f(x) = x ** 2');"
      ],
      "execution_count": 0,
      "outputs": [
        {
          "output_type": "display_data",
          "data": {
            "image/png": "[encoded data removed]",
            "text/plain": [
              "<Figure size 432x288 with 1 Axes>"
            ]
          },
          "metadata": {
            "tags": [],
            "needs_background": "light"
          }
        }
      ]
    },
    {
      "cell_type": "markdown",
      "metadata": {
        "id": "JSdw4HHnlYLf",
        "colab_type": "text"
      },
      "source": [
        "> How do you find an input that minimizes the value of this function?\n",
        ">\n",
        "> You can sometimes figure out that minimum explicitly. But that's not always feasible for really complicated functions.\n",
        ">\n",
        "> A more flexible tactic is to start at any old input ..."
      ]
    },
    {
      "cell_type": "code",
      "metadata": {
        "id": "sVyGsfI1lYLf",
        "colab_type": "code",
        "outputId": "fd8ba9b1-cf24-49d1-f5c0-4e6d9d001c46",
        "colab": {}
      },
      "source": [
        "# plot f(x) = x**2\n",
        "xs = np.linspace(start=-1, stop=1)\n",
        "squares = xs ** 2\n",
        "plt.plot(xs, squares)\n",
        "plt.xlabel('x')\n",
        "plt.ylabel('f(x) = x ** 2')\n",
        "\n",
        "# plot point at x, f(x)\n",
        "x = np.random.uniform(-1,1)\n",
        "y = x**2\n",
        "plt.scatter(x, y);"
      ],
      "execution_count": 0,
      "outputs": [
        {
          "output_type": "display_data",
          "data": {
            "image/png": "[encoded data removed]",
            "text/plain": [
              "<Figure size 432x288 with 1 Axes>"
            ]
          },
          "metadata": {
            "tags": [],
            "needs_background": "light"
          }
        }
      ]
    },
    {
      "cell_type": "markdown",
      "metadata": {
        "id": "T9tlK3b1lYLi",
        "colab_type": "text"
      },
      "source": [
        "> Start at any old input and figure out which direction you should step to make that output lower.\n",
        ">\n",
        "> Specifically, if you can figure out the slope of the function where you are, then shift to the left if that slope is positive, and shift the input to the right if that slope is negative."
      ]
    },
    {
      "cell_type": "code",
      "metadata": {
        "id": "Wfcs5JXUlYLj",
        "colab_type": "code",
        "outputId": "3f08d2fa-1484-48a7-d60e-5ea1164253a3",
        "colab": {}
      },
      "source": [
        "# plot f(x) = x**2\n",
        "xs = np.linspace(start=-1, stop=1)\n",
        "squares = xs ** 2\n",
        "plt.plot(xs, squares)\n",
        "plt.xlabel('x')\n",
        "plt.ylabel('f(x) = x ** 2')\n",
        "\n",
        "# plot point at x, f(x)\n",
        "x = np.random.uniform(-1,1)\n",
        "y = x**2\n",
        "plt.scatter(x, y)\n",
        "\n",
        "# calculate derivative\n",
        "derivative = 2*x\n",
        "print('Gradient:', derivative)\n",
        "\n",
        "if derivative > 0:\n",
        "    print('Shift to the left')\n",
        "\n",
        "if derivative < 0:\n",
        "    print('Shift to the right')\n",
        "\n",
        "if derivative == 0:\n",
        "    print(f'x={x} minimizes the value of this function')"
      ],
      "execution_count": 0,
      "outputs": [
        {
          "output_type": "stream",
          "text": [
            "Gradient: -0.27865481879253684\n",
            "Shift to the right\n"
          ],
          "name": "stdout"
        },
        {
          "output_type": "display_data",
          "data": {
            "image/png": "[encoded data removed]",
            "text/plain": [
              "<Figure size 432x288 with 1 Axes>"
            ]
          },
          "metadata": {
            "tags": [],
            "needs_background": "light"
          }
        }
      ]
    },
    {
      "cell_type": "markdown",
      "metadata": {
        "id": "5ukOJb4olYLm",
        "colab_type": "text"
      },
      "source": [
        "> If you do this repeatedly at each point, checking the new slope and taking the appropriate step, you're gonna approach some local minimum of the function."
      ]
    },
    {
      "cell_type": "code",
      "metadata": {
        "id": "_tX9Yc5KlYLm",
        "colab_type": "code",
        "outputId": "ca136ebc-5090-4380-8306-e28fb8d7a8b0",
        "colab": {}
      },
      "source": [
        "from ipywidgets import interact\n",
        "\n",
        "def check_slope(x=np.random.uniform(-1,1)):\n",
        "    # plot f(x) = x**2\n",
        "    xs = np.linspace(start=-1, stop=1)\n",
        "    squares = xs ** 2\n",
        "    plt.plot(xs, squares)\n",
        "    plt.xlabel('x')\n",
        "    plt.ylabel('f(x) = x ** 2')\n",
        "\n",
        "    # plot point at x, f(x)\n",
        "    y = x**2\n",
        "    plt.scatter(x, y)\n",
        "\n",
        "    # calculate derivative\n",
        "    derivative = 2*x\n",
        "    print('Gradient:', derivative)\n",
        "\n",
        "    if derivative > 0:\n",
        "        print('Shift to the left')\n",
        "\n",
        "    if derivative < 0:\n",
        "        print('Shift to the right')\n",
        "\n",
        "    if derivative == 0:\n",
        "        print(f'x={x} minimizes the value of this function')\n",
        "        \n",
        "    # plot tangent line\n",
        "    tangent = y + derivative * (xs - x)\n",
        "    plt.plot(xs, tangent, linestyle='dashed', color='grey', zorder=1)\n",
        "    plt.ylim((-0.1,1))\n",
        "                \n",
        "interact(check_slope, x=(-1,1,0.1));"
      ],
      "execution_count": 0,
      "outputs": [
        {
          "output_type": "display_data",
          "data": {
            "application/vnd.jupyter.widget-view+json": {
              "model_id": "d35dd91123834c3bb7213b2d49e856db",
              "version_major": 2,
              "version_minor": 0
            },
            "text/plain": [
              "interactive(children=(FloatSlider(value=-0.34434502169336567, description='x', max=1.0, min=-1.0), Output()), …"
            ]
          },
          "metadata": {
            "tags": []
          }
        }
      ]
    },
    {
      "cell_type": "markdown",
      "metadata": {
        "id": "IaflDt3nlYLp",
        "colab_type": "text"
      },
      "source": [
        "> The algorithm for minimizing the function is to \n",
        ">\n",
        "> - compute this gradient direction, \n",
        "> - then take a small step downhill, \n",
        "> - and just repeat that over and over. \n",
        ">\n",
        "> This process of repeatedly nudging an input of a function by some multiple of the negative gradient is called gradient descent."
      ]
    },
    {
      "cell_type": "code",
      "metadata": {
        "id": "BRbovXL5lYLq",
        "colab_type": "code",
        "outputId": "dc8eb11f-1007-4af7-e9d8-a47fa82dff3c",
        "colab": {}
      },
      "source": [
        "iterations = 20\n",
        "learning_rate = 0.1\n",
        "x = np.random.uniform(-1,1)\n",
        "\n",
        "for _ in range(iterations):\n",
        "    gradient = 2*x  # derivative of f(x) = x**2\n",
        "    x += learning_rate * -gradient\n",
        "    print(x)"
      ],
      "execution_count": 0,
      "outputs": [
        {
          "output_type": "stream",
          "text": [
            "0.7313561747826915\n",
            "0.5850849398261533\n",
            "0.46806795186092265\n",
            "0.3744543614887381\n",
            "0.2995634891909905\n",
            "0.2396507913527924\n",
            "0.19172063308223392\n",
            "0.15337650646578713\n",
            "0.1227012051726297\n",
            "0.09816096413810375\n",
            "0.078528771310483\n",
            "0.0628230170483864\n",
            "0.05025841363870912\n",
            "0.0402067309109673\n",
            "0.03216538472877384\n",
            "0.02573230778301907\n",
            "0.020585846226415256\n",
            "0.016468676981132205\n",
            "0.013174941584905763\n",
            "0.01053995326792461\n"
          ],
          "name": "stdout"
        }
      ]
    },
    {
      "cell_type": "code",
      "metadata": {
        "id": "1RcUu5hOlYLt",
        "colab_type": "code",
        "outputId": "bc3addb0-7857-4206-9e6e-5015a85feb51",
        "colab": {}
      },
      "source": [
        "def gradient_descent(start_at=np.random.uniform(-1,1), iterations=20, learning_rate=0.1):\n",
        "    # plot f(x) = x**2\n",
        "    xs = np.linspace(start=-1, stop=1)\n",
        "    squares = xs ** 2\n",
        "    plt.plot(xs, squares, color='grey')\n",
        "    plt.xlabel('x')\n",
        "    plt.ylabel('f(x) = x ** 2')    \n",
        "\n",
        "    x = start_at\n",
        "    for n in range(iterations):\n",
        "        gradient = 2*x  # derivative of f(x) = x**2\n",
        "        x += learning_rate * -gradient\n",
        "        y = x**2\n",
        "        plt.scatter(x, y, color='grey', edgecolor='black', zorder=3)\n",
        "        \n",
        "interact(gradient_descent, start_at=(-1,1,0.5), iterations=(1,20,1), learning_rate=(0.05,0.96,0.05));"
      ],
      "execution_count": 0,
      "outputs": [
        {
          "output_type": "display_data",
          "data": {
            "application/vnd.jupyter.widget-view+json": {
              "model_id": "a78cc8fd2b794cc38f5d5338f45c0367",
              "version_major": 2,
              "version_minor": 0
            },
            "text/plain": [
              "interactive(children=(FloatSlider(value=0.2673480345472701, description='start_at', max=1.0, min=-1.0, step=0.…"
            ]
          },
          "metadata": {
            "tags": []
          }
        }
      ]
    },
    {
      "cell_type": "markdown",
      "metadata": {
        "id": "IxCB6CctlYLv",
        "colab_type": "text"
      },
      "source": [
        "## NEXT: Solving Linear Regression with Gradient Descent"
      ]
    },
    {
      "cell_type": "markdown",
      "metadata": {
        "id": "gcB6WphXlYLw",
        "colab_type": "text"
      },
      "source": [
        "Let's look at the first quadrant of Anscombe's quartet. \n",
        "\n",
        "We can draw a line to fit the data, adjust the line's slope, and visualize the cost function."
      ]
    },
    {
      "cell_type": "code",
      "metadata": {
        "scrolled": false,
        "id": "GgzEbJ83lYLw",
        "colab_type": "code",
        "outputId": "e12dc8a0-aca0-446f-8e3a-a895c950e992",
        "colab": {}
      },
      "source": [
        "from ipywidgets import fixed\n",
        "# from sklearn.metrics import mean_squared_error\n",
        "\n",
        "data = sns.load_dataset('anscombe').query('dataset==\"I\"')\n",
        "\n",
        "def linear_regression(m=0.5, b=3):\n",
        "    # Plot the data\n",
        "    sns.relplot(x='x', y='y', data=data)\n",
        "    \n",
        "    # Plot the line y = mx + b\n",
        "    y_pred = m * data['x'] + b\n",
        "    plt.plot(data['x'], y_pred)\n",
        "    plt.show()\n",
        "    \n",
        "    # Plot the error for the line y = mx + b\n",
        "    error = y_pred - data['y']\n",
        "    sse = np.sum(error ** 2)\n",
        "    plt.scatter(m, sse)\n",
        "\n",
        "    # Plot the cost function, as a function of slope\n",
        "    slopes = np.linspace(start=-1, stop=1)\n",
        "    sses = []\n",
        "    for slope in slopes:\n",
        "        y_pred = slope * data['x'] + b\n",
        "        error = data['y'] - y_pred\n",
        "        sse = np.sum(error ** 2)\n",
        "        sses.append(sse)\n",
        "    plt.plot(slopes, sses)\n",
        "    plt.title(f'Intercept={b}')\n",
        "    plt.xlabel('Slope')\n",
        "    plt.ylabel('Sum of Squared Error')\n",
        "    \n",
        "interact(linear_regression, m=(-1,1,0.1), b=fixed(3));"
      ],
      "execution_count": 0,
      "outputs": [
        {
          "output_type": "display_data",
          "data": {
            "application/vnd.jupyter.widget-view+json": {
              "model_id": "1899863b35f84d81ae7ea52a09fbb3fc",
              "version_major": 2,
              "version_minor": 0
            },
            "text/plain": [
              "interactive(children=(FloatSlider(value=0.5, description='m', max=1.0, min=-1.0), Output()), _dom_classes=('wi…"
            ]
          },
          "metadata": {
            "tags": []
          }
        }
      ]
    },
    {
      "cell_type": "markdown",
      "metadata": {
        "id": "o8p_AOEylYLz",
        "colab_type": "text"
      },
      "source": [
        "---\n",
        "***We can use Gradient Descent to solve Linear Regression. Here's how:***"
      ]
    },
    {
      "cell_type": "markdown",
      "metadata": {
        "id": "uOx-bDNUlYL0",
        "colab_type": "text"
      },
      "source": [
        "## Andrew Ng, [Gradient Descent for Linear Regression](https://www.coursera.org/lecture/machine-learning/gradient-descent-for-linear-regression-kCvQc) with One Variable\n",
        "\n",
        "> We're gonna put together gradient descent with our squared error cost function, and that will give us an algorithm for linear regression.\n",
        ">\n",
        "> In order to apply gradient descent, we need the partial derivative terms. Computing those partial derivative terms requires some multivariate calculus. If you know calculus, feel free to work through the derivations yourself and check that if you take the derivatives, you actually get the answers that I got. But if you're less familiar with calculus, don't worry about it and it's fine to just take these equations that were worked out."
      ]
    },
    {
      "cell_type": "markdown",
      "metadata": {
        "id": "xnEBfO5slYL1",
        "colab_type": "text"
      },
      "source": [
        "![](https://i.imgur.com/g9P2Pod.png)"
      ]
    },
    {
      "cell_type": "markdown",
      "metadata": {
        "id": "2huqBRCOlYL1",
        "colab_type": "text"
      },
      "source": [
        "#### Let's translate this math notation into Python code:"
      ]
    },
    {
      "cell_type": "code",
      "metadata": {
        "id": "QAdJqIAplYL2",
        "colab_type": "code",
        "colab": {}
      },
      "source": [
        "def descent(theta, alpha, x, y):\n",
        "    intercept = theta[0]\n",
        "    slope = theta[1]\n",
        "    \n",
        "    def hypothesis(x): return slope * x + intercept\n",
        "    error = hypothesis(x) - y\n",
        "    \n",
        "    partial_derivative_intercept = np.mean(error)\n",
        "    partial_derivative_slope = np.mean(error * x)\n",
        "    \n",
        "    intercept = intercept - alpha * partial_derivative_intercept\n",
        "    slope = slope - alpha * partial_derivative_slope\n",
        "    \n",
        "    theta = intercept, slope\n",
        "    return theta"
      ],
      "execution_count": 0,
      "outputs": []
    },
    {
      "cell_type": "markdown",
      "metadata": {
        "id": "xAT9L_yvlYL4",
        "colab_type": "text"
      },
      "source": [
        "#### Then use our code to solve linear regression problems with one variable."
      ]
    },
    {
      "cell_type": "code",
      "metadata": {
        "id": "6b35ig83lYL5",
        "colab_type": "code",
        "outputId": "f61d3fb9-05d1-4bff-a6d1-bf639110019a",
        "colab": {}
      },
      "source": [
        "# Use gradient descent to fit y = 20x + 5\n",
        "x = np.linspace(-50, 50)\n",
        "y = 20 * x + 5\n",
        "\n",
        "theta = [np.random.uniform(-1,1), np.random.uniform(-1,1)]\n",
        "alpha = 0.001\n",
        "\n",
        "for _ in range(10000):\n",
        "    theta = descent(theta, alpha, x, y)\n",
        "\n",
        "intercept, slope = theta\n",
        "print(f'y = {slope}*x + {intercept}')"
      ],
      "execution_count": 0,
      "outputs": [
        {
          "output_type": "stream",
          "text": [
            "y = 20.0*x + 4.999734771992554\n"
          ],
          "name": "stdout"
        }
      ]
    },
    {
      "cell_type": "code",
      "metadata": {
        "id": "lsZ3j8V7lYL8",
        "colab_type": "code",
        "outputId": "9e6f84c8-17f5-448c-a5b6-94d939a257e4",
        "colab": {}
      },
      "source": [
        "# Use gradient descent to fit Anscombe's Quartet\n",
        "data = sns.load_dataset('anscombe').query('dataset==\"I\"')\n",
        "sns.relplot(x='x', y='y', data=data)\n",
        "\n",
        "theta = [np.random.uniform(-1,1), np.random.uniform(-1,1)]\n",
        "alpha = 0.01\n",
        "for _ in range(5000):\n",
        "    theta = descent(theta, alpha, data['x'], data['y'])\n",
        "    \n",
        "intercept, slope = theta\n",
        "print(f'y = {slope}*x + {intercept}')\n",
        "\n",
        "y_pred = slope * data['x'] + intercept\n",
        "plt.plot(data['x'], y_pred);"
      ],
      "execution_count": 0,
      "outputs": [
        {
          "output_type": "stream",
          "text": [
            "y = 0.5011084948239967*x + 2.9898142909157044\n"
          ],
          "name": "stdout"
        },
        {
          "output_type": "display_data",
          "data": {
            "image/png": "[encoded data removed]",
            "text/plain": [
              "<Figure size 360x360 with 1 Axes>"
            ]
          },
          "metadata": {
            "tags": [],
            "needs_background": "light"
          }
        }
      ]
    },
    {
      "cell_type": "markdown",
      "metadata": {
        "id": "nTQOxLAglYMB",
        "colab_type": "text"
      },
      "source": [
        "# ASSIGNMENT\n",
        "\n",
        "Choose of these options, and ***share your work with your cohort on Slack!***\n",
        "\n",
        "### Visualize\n",
        "- How can you adapt or improve these visualizations?\n",
        "   - Could you draw tangent lines in the cost function visualizations?\n",
        "   - Could you create an interactive visualization of gradient descent for linear regression?\n",
        "   - Could you explain these concepts in different ways, by creating different visualizations?\n",
        "- [Lambda School DS2 student Cole Hudson created an awesome visualization!](https://gist.github.com/colejhudson/5cb08e9c51d1600a799deb25758a1c61) He implemented gradient descent to optimize a complex [\"Rosenbrock function\"](https://en.wikipedia.org/wiki/Rosenbrock_function), and visualized it in 3D. What can you learn from this example? What will you be inspired to create?\n",
        "\n",
        "### Implement\n",
        "- We implemented gradient descent for linear regression with one variable. Can you extend the code to work for multiple regression?\n",
        "- Choose another regression dataset. Fit the data with your gradient descent code, and without. (For example, use scikit-learn's Linear Regression model.) Compare your results.\n",
        "\n",
        "### Understand\n",
        "Explore another explanation or tutorial for Gradient Descent. You can use these links, or find another link of your choice. Share a quote or image from your link to show what you learn.\n",
        "\n",
        "- [Andrew Ng, Gradient Descent](https://www.coursera.org/lecture/machine-learning/gradient-descent-8SpIM)\n",
        "- [Brandon Rohrer, How Optimization Works](https://brohrer.github.io/how_optimization_works_1.html)\n",
        "- [Google Machine Learning Crash Course, Reducing Loss: An Iterative Approach](https://developers.google.com/machine-learning/crash-course/reducing-loss/an-iterative-approach)\n",
        "- [Joel Grus, Data Science from Scratch, 2nd Edition](https://joelgrus.com/2019/05/13/data-science-from-scratch-second-edition/), Chapter 8: Gradient Descent\n",
        "- [Kalid Azad, Understanding the Gradient](https://betterexplained.com/articles/vector-calculus-understanding-the-gradient/)\n",
        "- [Siraj Raval, The Evolution of Gradient Descent](https://www.youtube.com/watch?v=nhqo0u1a6fw)\n",
        "- [Terence Parr, Jeremy Howard, How to explain gradient boosting](https://explained.ai/gradient-boosting/)\n",
        "\n",
        "### Explore more model interpretation visualizations\n",
        "Yesterday, we looked at just a few options in a few Python libraries for model interpretation visualizations. Explore more options to create new visuals in new ways. This isn't about Gradient Descent, but would be a great use of your time too!\n",
        "\n",
        "- https://github.com/TeamHG-Memex/eli5\n",
        "- https://github.com/slundberg/shap\n",
        "- https://github.com/oracle/Skater"
      ]
    }
  ]
}